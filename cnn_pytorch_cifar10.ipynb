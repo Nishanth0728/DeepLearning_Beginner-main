{
 "cells": [
  {
   "cell_type": "markdown",
   "id": "cd5e1909",
   "metadata": {},
   "source": [
    "# Load Libraries"
   ]
  },
  {
   "cell_type": "code",
   "execution_count": 3,
   "id": "c7cc1a6c",
   "metadata": {},
   "outputs": [],
   "source": [
    "import torch\n",
    "import torch.nn as nn\n",
    "from torch.optim import optimizer\n",
    "from torchvision import datasets, transforms\n",
    "from torch.utils.data import DataLoader"
   ]
  },
  {
   "cell_type": "markdown",
   "id": "be64ba63",
   "metadata": {},
   "source": [
    "# Pre-Processing"
   ]
  },
  {
   "cell_type": "code",
   "execution_count": 4,
   "id": "9817970a",
   "metadata": {},
   "outputs": [],
   "source": [
    "transform = transforms.Compose([\n",
    "\n",
    "    transforms.ToTensor(),\n",
    "    transforms.Normalize((0.5, 0.5, 0.5), (0.5, 0.5, 0.5))\n",
    "\n",
    "])"
   ]
  },
  {
   "cell_type": "markdown",
   "id": "5830b5eb",
   "metadata": {},
   "source": [
    "# Load Dataset"
   ]
  },
  {
   "cell_type": "code",
   "execution_count": 6,
   "id": "884f79b8",
   "metadata": {},
   "outputs": [
    {
     "name": "stderr",
     "output_type": "stream",
     "text": [
      "100.0%\n",
      "100.0%\n",
      "100.0%\n",
      "100.0%\n"
     ]
    }
   ],
   "source": [
    "train_data = datasets.FashionMNIST(root = './data', train = True, download = True, transform = transform)\n",
    "test_data = datasets.FashionMNIST(root = './data', train = False, download = True, transform = transform)"
   ]
  },
  {
   "cell_type": "markdown",
   "id": "f3e3762b",
   "metadata": {},
   "source": [
    "# Build Architecture"
   ]
  },
  {
   "cell_type": "code",
   "execution_count": null,
   "id": "8339a303",
   "metadata": {},
   "outputs": [],
   "source": [
    "class cnn_CIFAR10(nn.module):\n",
    "    def __init__(self):\n",
    "        super().__init__()\n",
    "\n",
    "        #feature extraction layers\n",
    "        self.cnn1 = nn.Conv2d(3,6,5)\n",
    "        self.pool1 = nn.MaxPool2d(2,2)\n",
    "\n",
    "        self.cnn2 = nn.Conv2d(6,16,3)\n",
    "        self.pool2 = nn.MaxPool2d(2,2)\n",
    "\n",
    "        #classification layers\n",
    "        self.fc1 = nn.Linear()\n"
   ]
  }
 ],
 "metadata": {
  "kernelspec": {
   "display_name": ".venv",
   "language": "python",
   "name": "python3"
  },
  "language_info": {
   "codemirror_mode": {
    "name": "ipython",
    "version": 3
   },
   "file_extension": ".py",
   "mimetype": "text/x-python",
   "name": "python",
   "nbconvert_exporter": "python",
   "pygments_lexer": "ipython3",
   "version": "3.11.0"
  }
 },
 "nbformat": 4,
 "nbformat_minor": 5
}
